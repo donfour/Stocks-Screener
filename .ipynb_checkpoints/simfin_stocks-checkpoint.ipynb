{
 "cells": [
  {
   "cell_type": "code",
   "execution_count": 1,
   "metadata": {},
   "outputs": [],
   "source": [
    "import pandas as pd \n",
    "import simfin as sf\n",
    "from simfin.names import *\n",
    "import math\n",
    "import yfinance as yf"
   ]
  },
  {
   "cell_type": "code",
   "execution_count": 2,
   "metadata": {},
   "outputs": [],
   "source": [
    "def calculate_growth_rate(start, end, years):\n",
    "    return (end/start)**(1/years) - 1"
   ]
  },
  {
   "cell_type": "code",
   "execution_count": 3,
   "metadata": {},
   "outputs": [
    {
     "name": "stdout",
     "output_type": "stream",
     "text": [
      "Dataset \"us-income-annual\" on disk (41 days old).\n",
      "- Downloading ... 100.0%\n",
      "- Extracting zip-file ... Done!\n",
      "- Loading from disk ... Done!\n",
      "Dataset \"us-balance-annual\" on disk (41 days old).\n",
      "- Downloading ... 100.0%\n",
      "- Extracting zip-file ... Done!\n",
      "- Loading from disk ... Done!\n",
      "Dataset \"us-cashflow-annual\" on disk (41 days old).\n",
      "- Downloading ... 100.0%\n",
      "- Extracting zip-file ... Done!\n",
      "- Loading from disk ... Done!\n"
     ]
    }
   ],
   "source": [
    "# set up\n",
    "sf.set_api_key('free')\n",
    "sf.set_data_dir('./simfin_data/')\n",
    "\n",
    "df_income = sf.load_income(variant='annual', market='us')\n",
    "df_balance = sf.load_balance(variant='annual', market='us')\n",
    "df_cashflow = sf.load_cashflow(variant='annual', market='us')"
   ]
  },
  {
   "cell_type": "code",
   "execution_count": 4,
   "metadata": {},
   "outputs": [],
   "source": [
    "# roic\n",
    "operating_income = df_income[OP_INCOME]\n",
    "tax_rate = -(df_income[INCOME_TAX]/df_income[PRETAX_INCOME_LOSS_ADJ]) # how to handle > 1 or < 0\n",
    "nopat = operating_income * (1 - tax_rate)\n",
    "invested_capital = df_balance[ST_DEBT].fillna(0) + df_balance[LT_DEBT].fillna(0) + df_balance[TOTAL_EQUITY]\n",
    "\n",
    "roic = (nopat/invested_capital).rename('ROIC')\n",
    "\n",
    "# Big four numbers\n",
    "eps = (df_income[NET_INCOME] / df_income[SHARES_BASIC]).rename('EPS')\n",
    "revenue = df_income[REVENUE]\n",
    "equity = df_balance[TOTAL_EQUITY]\n",
    "cash = df_balance[CASH_EQUIV_ST_INVEST]"
   ]
  },
  {
   "cell_type": "code",
   "execution_count": 5,
   "metadata": {},
   "outputs": [],
   "source": [
    "big_five_df = pd.DataFrame([revenue, equity, cash, eps, roic])"
   ]
  },
  {
   "cell_type": "markdown",
   "metadata": {},
   "source": [
    "# Stock screening"
   ]
  },
  {
   "cell_type": "markdown",
   "metadata": {},
   "source": [
    "# Big Five analysis\n",
    "In descending order of importance:\n",
    "1. ROIC\n",
    "2. Equity\n",
    "3. EPS\n",
    "4. Sales\n",
    "5. Cash"
   ]
  },
  {
   "cell_type": "code",
   "execution_count": 6,
   "metadata": {},
   "outputs": [],
   "source": [
    "tickers_set = set()\n",
    "\n",
    "for ((ticker, _), _) in big_five_df.iteritems():\n",
    "    tickers_set.add(ticker)"
   ]
  },
  {
   "cell_type": "code",
   "execution_count": 7,
   "metadata": {},
   "outputs": [
    {
     "data": {
      "text/plain": [
       "True"
      ]
     },
     "execution_count": 7,
     "metadata": {},
     "output_type": "execute_result"
    }
   ],
   "source": [
    "'C649' in tickers_set"
   ]
  },
  {
   "cell_type": "code",
   "execution_count": 8,
   "metadata": {},
   "outputs": [
    {
     "name": "stderr",
     "output_type": "stream",
     "text": [
      "C:\\Users\\Donovan\\AppData\\Roaming\\Python\\Python36\\site-packages\\ipykernel_launcher.py:2: RuntimeWarning: invalid value encountered in double_scalars\n",
      "  \n",
      "C:\\Users\\Donovan\\AppData\\Roaming\\Python\\Python36\\site-packages\\ipykernel_launcher.py:2: RuntimeWarning: divide by zero encountered in double_scalars\n",
      "  \n"
     ]
    }
   ],
   "source": [
    "# Growth rates calculation\n",
    "n_year_growth_rates = [10, 5, 3, 1] # n-year growth rates to calculate\n",
    "columns = ['ticker', 'financial'] + [f'{year}-year growth rate' for year in n_year_growth_rates]\n",
    "growth_rate_df = pd.DataFrame(columns=columns)\n",
    "\n",
    "for ticker in tickers_set:\n",
    "    single_stock_df = big_five_df[ticker]\n",
    "    for financial in [TOTAL_EQUITY, CASH_EQUIV_ST_INVEST, REVENUE, 'EPS', 'ROIC']:\n",
    "        row = [ticker, financial]\n",
    "        for years in n_year_growth_rates:\n",
    "            try:\n",
    "                start_value = single_stock_df[single_stock_df.columns[-years-1]][financial]\n",
    "                end_value = single_stock_df[single_stock_df.columns[-1]][financial]\n",
    "                growth_rate = calculate_growth_rate(start_value, end_value, years)\n",
    "            except:\n",
    "                # return nan if value does not exist, or if end_value/start_value is negative\n",
    "                growth_rate = math.nan\n",
    "            row.append(growth_rate)\n",
    "        growth_rate_df = growth_rate_df.append(\n",
    "            pd.Series(row, index = columns),\n",
    "            ignore_index = True)\n",
    "\n",
    "growth_rate_df = growth_rate_df.set_index('ticker')\n",
    "growth_rate_df = growth_rate_df.set_index('financial', append=True)"
   ]
  },
  {
   "cell_type": "code",
   "execution_count": 9,
   "metadata": {
    "scrolled": true
   },
   "outputs": [
    {
     "data": {
      "text/plain": [
       "['ASGN', 'CNC', 'NFLX', 'AMZN', 'LULU']"
      ]
     },
     "execution_count": 9,
     "metadata": {},
     "output_type": "execute_result"
    }
   ],
   "source": [
    "potential_buys = []\n",
    "\n",
    "def check_is_potential_buy(df, allowed_failed = 0):\n",
    "    failed_counter = 0\n",
    "    # iterate over each cell\n",
    "    for rowIndex, row in df.iterrows():\n",
    "        for columnIndex, value in row.items():\n",
    "            if math.isnan(value) or value < 0.1:\n",
    "                failed_counter += 1\n",
    "    # change to adjust leniency\n",
    "    return failed_counter <= allowed_failed\n",
    "\n",
    "for ticker in tickers_set:\n",
    "    df = growth_rate_df.T[ticker]\n",
    "    if(check_is_potential_buy(df, 3)):\n",
    "        potential_buys.append(ticker)\n",
    "\n",
    "potential_buys"
   ]
  },
  {
   "cell_type": "code",
   "execution_count": 10,
   "metadata": {},
   "outputs": [],
   "source": [
    "len(tickers_set)\n",
    "old_potential_buys = ['FND',\n",
    " 'GOV',\n",
    " 'BB',\n",
    " 'ESTC',\n",
    " 'GOEV',\n",
    " 'ANET',\n",
    " 'CORT',\n",
    " 'ABMD',\n",
    " 'JDAS',\n",
    " 'PINS',\n",
    " 'CHNG',\n",
    " 'VIVE',\n",
    " 'MXMG',\n",
    " 'LULU',\n",
    " 'ARCP',\n",
    " 'KONA',\n",
    " 'SHLL',\n",
    " 'BRBR',\n",
    " 'DCPH',\n",
    " 'FNJN',\n",
    " 'CACC',\n",
    " 'KMG',\n",
    " 'MRCY',\n",
    " 'ALR',\n",
    " 'ODT',\n",
    " 'COVS',\n",
    " 'MACK',\n",
    " 'AJBI',\n",
    " 'NFLX',\n",
    " 'SD',\n",
    " 'SHLX',\n",
    " 'GWPH',\n",
    " 'GIMO',\n",
    " 'TDW',\n",
    " 'LOXO',\n",
    " 'WBMD',\n",
    " 'SJI',\n",
    " 'OMGB',\n",
    " 'XOG',\n",
    " 'TWLO',\n",
    " 'IEHC',\n",
    " 'INCY',\n",
    " 'BOOT',\n",
    " 'SATS',\n",
    " 'FOR',\n",
    " 'MSG',\n",
    " 'MWW',\n",
    " 'PCTY',\n",
    " 'CCH',\n",
    " 'PTON',\n",
    " 'NOIZ',\n",
    " 'MELI',\n",
    " 'AMZN',\n",
    " 'BOJA',\n",
    " 'OLED',\n",
    " 'PAYS',\n",
    " 'PRLE',\n",
    " 'IIPR',\n",
    " 'STAA',\n",
    " 'RA',\n",
    " 'BSTC',\n",
    " 'XPEL',\n",
    " 'ZM',\n",
    " 'AAC',\n",
    " 'TTD',\n",
    " 'SAFE',\n",
    " 'RGNX',\n",
    " 'DKNG']"
   ]
  },
  {
   "cell_type": "markdown",
   "metadata": {},
   "source": [
    "# Sticker price\n",
    "Ingredients:\n",
    "1. Current EPS\n",
    "2. Estimated EPS growth rate\n",
    "  - Historial equity growth rate\n",
    "3. Estimated future PE\n",
    "  - historic average PE, or\n",
    "  - growth rate * 2\n",
    "4. Minimum rate of return (15%)\n",
    "5. MOS (50%)"
   ]
  },
  {
   "cell_type": "code",
   "execution_count": 11,
   "metadata": {},
   "outputs": [],
   "source": [
    "test_symbol = 'NFLX'"
   ]
  },
  {
   "cell_type": "code",
   "execution_count": 12,
   "metadata": {},
   "outputs": [
    {
     "data": {
      "text/html": [
       "<div>\n",
       "<style scoped>\n",
       "    .dataframe tbody tr th:only-of-type {\n",
       "        vertical-align: middle;\n",
       "    }\n",
       "\n",
       "    .dataframe tbody tr th {\n",
       "        vertical-align: top;\n",
       "    }\n",
       "\n",
       "    .dataframe thead th {\n",
       "        text-align: right;\n",
       "    }\n",
       "</style>\n",
       "<table border=\"1\" class=\"dataframe\">\n",
       "  <thead>\n",
       "    <tr style=\"text-align: right;\">\n",
       "      <th>Report Date</th>\n",
       "      <th>2008-12-31</th>\n",
       "      <th>2009-12-31</th>\n",
       "      <th>2010-12-31</th>\n",
       "      <th>2011-12-31</th>\n",
       "      <th>2012-12-31</th>\n",
       "      <th>2013-12-31</th>\n",
       "      <th>2014-12-31</th>\n",
       "      <th>2015-12-31</th>\n",
       "      <th>2016-12-31</th>\n",
       "      <th>2017-12-31</th>\n",
       "      <th>2018-12-31</th>\n",
       "      <th>2019-12-31</th>\n",
       "    </tr>\n",
       "  </thead>\n",
       "  <tbody>\n",
       "    <tr>\n",
       "      <th>Revenue</th>\n",
       "      <td>1.364661e+09</td>\n",
       "      <td>1.670269e+09</td>\n",
       "      <td>2.162625e+09</td>\n",
       "      <td>3.204577e+09</td>\n",
       "      <td>3.609282e+09</td>\n",
       "      <td>4.374562e+09</td>\n",
       "      <td>5.504656e+09</td>\n",
       "      <td>6.779511e+09</td>\n",
       "      <td>8.830669e+09</td>\n",
       "      <td>1.169271e+10</td>\n",
       "      <td>1.579434e+10</td>\n",
       "      <td>2.015645e+10</td>\n",
       "    </tr>\n",
       "    <tr>\n",
       "      <th>Total Equity</th>\n",
       "      <td>3.471550e+08</td>\n",
       "      <td>1.991430e+08</td>\n",
       "      <td>2.901640e+08</td>\n",
       "      <td>6.428100e+08</td>\n",
       "      <td>7.446730e+08</td>\n",
       "      <td>1.333561e+09</td>\n",
       "      <td>1.857708e+09</td>\n",
       "      <td>2.223426e+09</td>\n",
       "      <td>2.679800e+09</td>\n",
       "      <td>3.581956e+09</td>\n",
       "      <td>5.238765e+09</td>\n",
       "      <td>7.582157e+09</td>\n",
       "    </tr>\n",
       "    <tr>\n",
       "      <th>Cash, Cash Equivalents &amp; Short Term Investments</th>\n",
       "      <td>2.972710e+08</td>\n",
       "      <td>3.202420e+08</td>\n",
       "      <td>3.503870e+08</td>\n",
       "      <td>7.978110e+08</td>\n",
       "      <td>7.480780e+08</td>\n",
       "      <td>1.200405e+09</td>\n",
       "      <td>1.608496e+09</td>\n",
       "      <td>2.310715e+09</td>\n",
       "      <td>1.733782e+09</td>\n",
       "      <td>2.822795e+09</td>\n",
       "      <td>3.794483e+09</td>\n",
       "      <td>5.018437e+09</td>\n",
       "    </tr>\n",
       "    <tr>\n",
       "      <th>EPS</th>\n",
       "      <td>1.945647e-01</td>\n",
       "      <td>2.926349e-01</td>\n",
       "      <td>4.374536e-01</td>\n",
       "      <td>6.112686e-01</td>\n",
       "      <td>4.413259e-02</td>\n",
       "      <td>2.759134e-01</td>\n",
       "      <td>6.344140e-01</td>\n",
       "      <td>2.879647e-01</td>\n",
       "      <td>4.353275e-01</td>\n",
       "      <td>1.294162e+00</td>\n",
       "      <td>2.782072e+00</td>\n",
       "      <td>4.264322e+00</td>\n",
       "    </tr>\n",
       "    <tr>\n",
       "      <th>ROIC</th>\n",
       "      <td>1.985944e-01</td>\n",
       "      <td>2.647011e-01</td>\n",
       "      <td>3.477082e-01</td>\n",
       "      <td>2.268225e-01</td>\n",
       "      <td>2.457643e-02</td>\n",
       "      <td>8.729675e-02</td>\n",
       "      <td>1.120757e-01</td>\n",
       "      <td>5.753182e-02</td>\n",
       "      <td>4.502858e-02</td>\n",
       "      <td>9.580827e-02</td>\n",
       "      <td>1.016302e-01</td>\n",
       "      <td>1.055261e-01</td>\n",
       "    </tr>\n",
       "  </tbody>\n",
       "</table>\n",
       "</div>"
      ],
      "text/plain": [
       "Report Date                                        2008-12-31    2009-12-31  \\\n",
       "Revenue                                          1.364661e+09  1.670269e+09   \n",
       "Total Equity                                     3.471550e+08  1.991430e+08   \n",
       "Cash, Cash Equivalents & Short Term Investments  2.972710e+08  3.202420e+08   \n",
       "EPS                                              1.945647e-01  2.926349e-01   \n",
       "ROIC                                             1.985944e-01  2.647011e-01   \n",
       "\n",
       "Report Date                                        2010-12-31    2011-12-31  \\\n",
       "Revenue                                          2.162625e+09  3.204577e+09   \n",
       "Total Equity                                     2.901640e+08  6.428100e+08   \n",
       "Cash, Cash Equivalents & Short Term Investments  3.503870e+08  7.978110e+08   \n",
       "EPS                                              4.374536e-01  6.112686e-01   \n",
       "ROIC                                             3.477082e-01  2.268225e-01   \n",
       "\n",
       "Report Date                                        2012-12-31    2013-12-31  \\\n",
       "Revenue                                          3.609282e+09  4.374562e+09   \n",
       "Total Equity                                     7.446730e+08  1.333561e+09   \n",
       "Cash, Cash Equivalents & Short Term Investments  7.480780e+08  1.200405e+09   \n",
       "EPS                                              4.413259e-02  2.759134e-01   \n",
       "ROIC                                             2.457643e-02  8.729675e-02   \n",
       "\n",
       "Report Date                                        2014-12-31    2015-12-31  \\\n",
       "Revenue                                          5.504656e+09  6.779511e+09   \n",
       "Total Equity                                     1.857708e+09  2.223426e+09   \n",
       "Cash, Cash Equivalents & Short Term Investments  1.608496e+09  2.310715e+09   \n",
       "EPS                                              6.344140e-01  2.879647e-01   \n",
       "ROIC                                             1.120757e-01  5.753182e-02   \n",
       "\n",
       "Report Date                                        2016-12-31    2017-12-31  \\\n",
       "Revenue                                          8.830669e+09  1.169271e+10   \n",
       "Total Equity                                     2.679800e+09  3.581956e+09   \n",
       "Cash, Cash Equivalents & Short Term Investments  1.733782e+09  2.822795e+09   \n",
       "EPS                                              4.353275e-01  1.294162e+00   \n",
       "ROIC                                             4.502858e-02  9.580827e-02   \n",
       "\n",
       "Report Date                                        2018-12-31    2019-12-31  \n",
       "Revenue                                          1.579434e+10  2.015645e+10  \n",
       "Total Equity                                     5.238765e+09  7.582157e+09  \n",
       "Cash, Cash Equivalents & Short Term Investments  3.794483e+09  5.018437e+09  \n",
       "EPS                                              2.782072e+00  4.264322e+00  \n",
       "ROIC                                             1.016302e-01  1.055261e-01  "
      ]
     },
     "execution_count": 12,
     "metadata": {},
     "output_type": "execute_result"
    }
   ],
   "source": [
    "big_five_df[test_symbol]"
   ]
  },
  {
   "cell_type": "code",
   "execution_count": 13,
   "metadata": {},
   "outputs": [
    {
     "data": {
      "text/plain": [
       "<AxesSubplot:xlabel='Report Date'>"
      ]
     },
     "execution_count": 13,
     "metadata": {},
     "output_type": "execute_result"
    },
    {
     "data": {
      "image/png": "[encoded data removed]",
      "text/plain": [
       "<Figure size 432x288 with 1 Axes>"
      ]
     },
     "metadata": {
      "needs_background": "light"
     },
     "output_type": "display_data"
    },
    {
     "data": {
      "image/png": "[encoded data removed]",
      "text/plain": [
       "<Figure size 432x288 with 1 Axes>"
      ]
     },
     "metadata": {
      "needs_background": "light"
     },
     "output_type": "display_data"
    },
    {
     "data": {
      "image/png": "[encoded data removed]",
      "text/plain": [
       "<Figure size 432x288 with 1 Axes>"
      ]
     },
     "metadata": {
      "needs_background": "light"
     },
     "output_type": "display_data"
    }
   ],
   "source": [
    "big_five_df[test_symbol].loc[[REVENUE, TOTAL_EQUITY, CASH_EQUIV_ST_INVEST]].T.plot()\n",
    "big_five_df[test_symbol].loc[['EPS']].T.plot()\n",
    "big_five_df[test_symbol].loc[['ROIC']].T.plot()"
   ]
  },
  {
   "cell_type": "code",
   "execution_count": 14,
   "metadata": {},
   "outputs": [
    {
     "data": {
      "text/html": [
       "<div>\n",
       "<style scoped>\n",
       "    .dataframe tbody tr th:only-of-type {\n",
       "        vertical-align: middle;\n",
       "    }\n",
       "\n",
       "    .dataframe tbody tr th {\n",
       "        vertical-align: top;\n",
       "    }\n",
       "\n",
       "    .dataframe thead th {\n",
       "        text-align: right;\n",
       "    }\n",
       "</style>\n",
       "<table border=\"1\" class=\"dataframe\">\n",
       "  <thead>\n",
       "    <tr style=\"text-align: right;\">\n",
       "      <th></th>\n",
       "      <th>10-year growth rate</th>\n",
       "      <th>5-year growth rate</th>\n",
       "      <th>3-year growth rate</th>\n",
       "      <th>1-year growth rate</th>\n",
       "    </tr>\n",
       "    <tr>\n",
       "      <th>financial</th>\n",
       "      <th></th>\n",
       "      <th></th>\n",
       "      <th></th>\n",
       "      <th></th>\n",
       "    </tr>\n",
       "  </thead>\n",
       "  <tbody>\n",
       "    <tr>\n",
       "      <th>Total Equity</th>\n",
       "      <td>0.439007</td>\n",
       "      <td>0.324839</td>\n",
       "      <td>0.414371</td>\n",
       "      <td>0.447318</td>\n",
       "    </tr>\n",
       "    <tr>\n",
       "      <th>Cash, Cash Equivalents &amp; Short Term Investments</th>\n",
       "      <td>0.316767</td>\n",
       "      <td>0.255538</td>\n",
       "      <td>0.425142</td>\n",
       "      <td>0.322561</td>\n",
       "    </tr>\n",
       "    <tr>\n",
       "      <th>Revenue</th>\n",
       "      <td>0.282811</td>\n",
       "      <td>0.296393</td>\n",
       "      <td>0.316659</td>\n",
       "      <td>0.276182</td>\n",
       "    </tr>\n",
       "    <tr>\n",
       "      <th>EPS</th>\n",
       "      <td>0.307231</td>\n",
       "      <td>0.463846</td>\n",
       "      <td>1.139659</td>\n",
       "      <td>0.532786</td>\n",
       "    </tr>\n",
       "    <tr>\n",
       "      <th>ROIC</th>\n",
       "      <td>-0.087862</td>\n",
       "      <td>-0.011971</td>\n",
       "      <td>0.328283</td>\n",
       "      <td>0.038335</td>\n",
       "    </tr>\n",
       "  </tbody>\n",
       "</table>\n",
       "</div>"
      ],
      "text/plain": [
       "                                                 10-year growth rate  \\\n",
       "financial                                                              \n",
       "Total Equity                                                0.439007   \n",
       "Cash, Cash Equivalents & Short Term Investments             0.316767   \n",
       "Revenue                                                     0.282811   \n",
       "EPS                                                         0.307231   \n",
       "ROIC                                                       -0.087862   \n",
       "\n",
       "                                                 5-year growth rate  \\\n",
       "financial                                                             \n",
       "Total Equity                                               0.324839   \n",
       "Cash, Cash Equivalents & Short Term Investments            0.255538   \n",
       "Revenue                                                    0.296393   \n",
       "EPS                                                        0.463846   \n",
       "ROIC                                                      -0.011971   \n",
       "\n",
       "                                                 3-year growth rate  \\\n",
       "financial                                                             \n",
       "Total Equity                                               0.414371   \n",
       "Cash, Cash Equivalents & Short Term Investments            0.425142   \n",
       "Revenue                                                    0.316659   \n",
       "EPS                                                        1.139659   \n",
       "ROIC                                                       0.328283   \n",
       "\n",
       "                                                 1-year growth rate  \n",
       "financial                                                            \n",
       "Total Equity                                               0.447318  \n",
       "Cash, Cash Equivalents & Short Term Investments            0.322561  \n",
       "Revenue                                                    0.276182  \n",
       "EPS                                                        0.532786  \n",
       "ROIC                                                       0.038335  "
      ]
     },
     "execution_count": 14,
     "metadata": {},
     "output_type": "execute_result"
    }
   ],
   "source": [
    "growth_rate_df.loc[test_symbol]"
   ]
  },
  {
   "cell_type": "code",
   "execution_count": 15,
   "metadata": {},
   "outputs": [
    {
     "data": {
      "text/plain": [
       "4.264322211791256"
      ]
     },
     "execution_count": 15,
     "metadata": {},
     "output_type": "execute_result"
    }
   ],
   "source": [
    "current_eps = big_five_df[test_symbol].loc['EPS'][-1]\n",
    "current_eps"
   ]
  },
  {
   "cell_type": "code",
   "execution_count": 16,
   "metadata": {},
   "outputs": [],
   "source": [
    "esimated_eps_growth_rate = 0.3\n",
    "estimated_future_pe = esimated_eps_growth_rate * 100 * 2"
   ]
  },
  {
   "cell_type": "code",
   "execution_count": 17,
   "metadata": {},
   "outputs": [
    {
     "data": {
      "text/plain": [
       "3527.238173254408"
      ]
     },
     "execution_count": 17,
     "metadata": {},
     "output_type": "execute_result"
    }
   ],
   "source": [
    "future_eps = current_eps * (1 + esimated_eps_growth_rate) ** 10\n",
    "future_price = future_eps * estimated_future_pe\n",
    "future_price"
   ]
  },
  {
   "cell_type": "code",
   "execution_count": 18,
   "metadata": {},
   "outputs": [
    {
     "data": {
      "text/plain": [
       "871.8793312777178"
      ]
     },
     "execution_count": 18,
     "metadata": {},
     "output_type": "execute_result"
    }
   ],
   "source": [
    "today_sticker_price = future_price / (1.15 ** 10)\n",
    "today_sticker_price"
   ]
  },
  {
   "cell_type": "code",
   "execution_count": 19,
   "metadata": {},
   "outputs": [
    {
     "data": {
      "text/plain": [
       "435.9396656388589"
      ]
     },
     "execution_count": 19,
     "metadata": {},
     "output_type": "execute_result"
    }
   ],
   "source": [
    "mos_price = today_sticker_price / 2\n",
    "mos_price"
   ]
  },
  {
   "cell_type": "code",
   "execution_count": 20,
   "metadata": {},
   "outputs": [],
   "source": [
    "def calculate_mos_price(symbol):\n",
    "    current_eps = big_five_df[symbol].loc['EPS'][-1]\n",
    "\n",
    "    esimated_eps_growth_rate = growth_rate_df.loc[symbol, TOTAL_EQUITY].mean()\n",
    "\n",
    "    estimated_future_pe = esimated_eps_growth_rate * 100 * 2\n",
    "\n",
    "    future_eps = current_eps * (1 + esimated_eps_growth_rate) ** 10\n",
    "\n",
    "    future_price = future_eps * estimated_future_pe\n",
    "\n",
    "    today_sticker_price = future_price / (1.15 ** 10)\n",
    "\n",
    "    return today_sticker_price\n",
    "\n",
    "def get_current_price(symbol):\n",
    "    try:\n",
    "        stock = yf.Ticker(symbol)\n",
    "        return (stock.info['bid'] + stock.info['ask'])/2\n",
    "    except:\n",
    "        return math.nan"
   ]
  },
  {
   "cell_type": "code",
   "execution_count": 21,
   "metadata": {
    "scrolled": true
   },
   "outputs": [],
   "source": [
    "# takes 2.5 hours to run :/\n",
    "\n",
    "# import datetime\n",
    "# with open('./sticker.csv', 'a') as f:\n",
    "#     f.write(\"ticker,sticker,current\\n\")\n",
    "#     for i, ticker in enumerate(list(tickers_set)):\n",
    "#         sticker_price = calculate_mos_price(ticker)\n",
    "#         current_price = get_current_price(ticker)\n",
    "#         f.write(f'{ticker},{sticker_price},{current_price}\\n')\n",
    "#         print(f'{datetime.datetime.now()}: {i}')"
   ]
  },
  {
   "cell_type": "code",
   "execution_count": 22,
   "metadata": {},
   "outputs": [
    {
     "data": {
      "text/plain": [
       "2284"
      ]
     },
     "execution_count": 22,
     "metadata": {},
     "output_type": "execute_result"
    }
   ],
   "source": [
    "len(tickers_set)"
   ]
  },
  {
   "cell_type": "code",
   "execution_count": 23,
   "metadata": {},
   "outputs": [
    {
     "data": {
      "text/html": [
       "<div>\n",
       "<style scoped>\n",
       "    .dataframe tbody tr th:only-of-type {\n",
       "        vertical-align: middle;\n",
       "    }\n",
       "\n",
       "    .dataframe tbody tr th {\n",
       "        vertical-align: top;\n",
       "    }\n",
       "\n",
       "    .dataframe thead th {\n",
       "        text-align: right;\n",
       "    }\n",
       "</style>\n",
       "<table border=\"1\" class=\"dataframe\">\n",
       "  <thead>\n",
       "    <tr style=\"text-align: right;\">\n",
       "      <th></th>\n",
       "      <th>ticker</th>\n",
       "      <th>sticker</th>\n",
       "      <th>current</th>\n",
       "    </tr>\n",
       "  </thead>\n",
       "  <tbody>\n",
       "    <tr>\n",
       "      <th>0</th>\n",
       "      <td>WTW</td>\n",
       "      <td>-2.977994</td>\n",
       "      <td>NaN</td>\n",
       "    </tr>\n",
       "    <tr>\n",
       "      <th>1</th>\n",
       "      <td>TJX</td>\n",
       "      <td>37.893197</td>\n",
       "      <td>62.760</td>\n",
       "    </tr>\n",
       "    <tr>\n",
       "      <th>2</th>\n",
       "      <td>KRO</td>\n",
       "      <td>7.107841</td>\n",
       "      <td>15.480</td>\n",
       "    </tr>\n",
       "    <tr>\n",
       "      <th>3</th>\n",
       "      <td>EMGL</td>\n",
       "      <td>-93.444245</td>\n",
       "      <td>NaN</td>\n",
       "    </tr>\n",
       "    <tr>\n",
       "      <th>4</th>\n",
       "      <td>GME</td>\n",
       "      <td>1.961395</td>\n",
       "      <td>138.290</td>\n",
       "    </tr>\n",
       "    <tr>\n",
       "      <th>...</th>\n",
       "      <td>...</td>\n",
       "      <td>...</td>\n",
       "      <td>...</td>\n",
       "    </tr>\n",
       "    <tr>\n",
       "      <th>2219</th>\n",
       "      <td>GLPI</td>\n",
       "      <td>-3.029083</td>\n",
       "      <td>43.175</td>\n",
       "    </tr>\n",
       "    <tr>\n",
       "      <th>2220</th>\n",
       "      <td>PRCP</td>\n",
       "      <td>0.970865</td>\n",
       "      <td>NaN</td>\n",
       "    </tr>\n",
       "    <tr>\n",
       "      <th>2221</th>\n",
       "      <td>XSPY</td>\n",
       "      <td>-8.625719</td>\n",
       "      <td>NaN</td>\n",
       "    </tr>\n",
       "    <tr>\n",
       "      <th>2222</th>\n",
       "      <td>ARRS</td>\n",
       "      <td>152.275682</td>\n",
       "      <td>NaN</td>\n",
       "    </tr>\n",
       "    <tr>\n",
       "      <th>2223</th>\n",
       "      <td>CNC</td>\n",
       "      <td>743.173852</td>\n",
       "      <td>60.160</td>\n",
       "    </tr>\n",
       "  </tbody>\n",
       "</table>\n",
       "<p>2224 rows × 3 columns</p>\n",
       "</div>"
      ],
      "text/plain": [
       "     ticker     sticker  current\n",
       "0       WTW   -2.977994      NaN\n",
       "1       TJX   37.893197   62.760\n",
       "2       KRO    7.107841   15.480\n",
       "3      EMGL  -93.444245      NaN\n",
       "4       GME    1.961395  138.290\n",
       "...     ...         ...      ...\n",
       "2219   GLPI   -3.029083   43.175\n",
       "2220   PRCP    0.970865      NaN\n",
       "2221   XSPY   -8.625719      NaN\n",
       "2222   ARRS  152.275682      NaN\n",
       "2223    CNC  743.173852   60.160\n",
       "\n",
       "[2224 rows x 3 columns]"
      ]
     },
     "execution_count": 23,
     "metadata": {},
     "output_type": "execute_result"
    }
   ],
   "source": [
    "sticker_df = pd.read_csv('./sticker2.csv')\n",
    "sticker_df"
   ]
  },
  {
   "cell_type": "code",
   "execution_count": 24,
   "metadata": {
    "scrolled": true
   },
   "outputs": [],
   "source": [
    "good_buy_tickers = list(sticker_df[sticker_df['current'] < sticker_df['sticker']]['ticker'])"
   ]
  },
  {
   "cell_type": "code",
   "execution_count": 25,
   "metadata": {
    "scrolled": true
   },
   "outputs": [
    {
     "data": {
      "text/plain": [
       "['FF',\n",
       " 'ICUI',\n",
       " 'MDXG',\n",
       " 'HEAR',\n",
       " 'AMD',\n",
       " 'LB',\n",
       " 'SCND',\n",
       " 'ENR',\n",
       " 'IEHC',\n",
       " 'AIMC',\n",
       " 'NEU',\n",
       " 'GNRC',\n",
       " 'TYL',\n",
       " 'JCOM',\n",
       " 'PBI',\n",
       " 'WING',\n",
       " 'MPC',\n",
       " 'CUZ',\n",
       " 'BCEI',\n",
       " 'PRKA',\n",
       " 'DOMO',\n",
       " 'CCS',\n",
       " 'SOFO',\n",
       " 'BRRE',\n",
       " 'FFIV',\n",
       " 'ARNA',\n",
       " 'STOR',\n",
       " 'KBR',\n",
       " 'MCD',\n",
       " 'SSYS',\n",
       " 'MTOR',\n",
       " 'SUI',\n",
       " 'CPSI',\n",
       " 'ARCW',\n",
       " 'INVA',\n",
       " 'CHTR',\n",
       " 'HBI',\n",
       " 'TCMD',\n",
       " 'NXST',\n",
       " 'REI',\n",
       " 'CVS',\n",
       " 'JLL',\n",
       " 'XBIT',\n",
       " 'APPF',\n",
       " 'T',\n",
       " 'TPX',\n",
       " 'PVAC',\n",
       " 'ATO',\n",
       " 'ALGT',\n",
       " 'BLDR',\n",
       " 'AMSC',\n",
       " 'EVI',\n",
       " 'WAB',\n",
       " 'LGL',\n",
       " 'BAH',\n",
       " 'MEI',\n",
       " 'QNST',\n",
       " 'RCL',\n",
       " 'CLCT',\n",
       " 'REXR',\n",
       " 'SUPN',\n",
       " 'IO',\n",
       " 'EPM',\n",
       " 'PII',\n",
       " 'NAII',\n",
       " 'TU',\n",
       " 'VEEV',\n",
       " 'IMGN',\n",
       " 'ZM',\n",
       " 'ACIA',\n",
       " 'AMZN',\n",
       " 'OLLI',\n",
       " 'LGIH',\n",
       " 'SIX',\n",
       " 'WSTL',\n",
       " 'LAD',\n",
       " 'PLNT',\n",
       " 'LCI',\n",
       " 'EAT',\n",
       " 'CRM',\n",
       " 'LEGH',\n",
       " 'STX',\n",
       " 'VRTX',\n",
       " 'SOTK',\n",
       " 'CAGU',\n",
       " 'TCX',\n",
       " 'PTN',\n",
       " 'LGND',\n",
       " 'TWTR',\n",
       " 'QDEL',\n",
       " 'TSN',\n",
       " 'RMCF',\n",
       " 'DEI',\n",
       " 'URI',\n",
       " 'NFLX',\n",
       " 'CRSP',\n",
       " 'ILMN',\n",
       " 'LBUY',\n",
       " 'INCY',\n",
       " 'NCLH',\n",
       " 'PCTY',\n",
       " 'KDP',\n",
       " 'CCK',\n",
       " 'ATKR',\n",
       " 'CORT',\n",
       " 'NGVT',\n",
       " 'IRBT',\n",
       " 'CAG',\n",
       " 'AWI',\n",
       " 'TTD',\n",
       " 'JYNT',\n",
       " 'AL',\n",
       " 'WRK',\n",
       " 'LNG',\n",
       " 'MIDD',\n",
       " 'CIK',\n",
       " 'EXEL',\n",
       " 'EHTH',\n",
       " 'SAIC',\n",
       " 'TMDX',\n",
       " 'MCHP',\n",
       " 'ZAGG',\n",
       " 'UAL',\n",
       " 'TWIN',\n",
       " 'CARG',\n",
       " 'TTC',\n",
       " 'MCFT',\n",
       " 'SLGN',\n",
       " 'CHJI',\n",
       " 'SQ',\n",
       " 'AAXN',\n",
       " 'XNCR',\n",
       " 'FISV',\n",
       " 'DISH',\n",
       " 'IFF',\n",
       " 'IT',\n",
       " 'ALXN',\n",
       " 'LBTYA',\n",
       " 'CACI',\n",
       " 'STZ',\n",
       " 'SUP',\n",
       " 'TPB',\n",
       " 'ASGN',\n",
       " 'KBH',\n",
       " 'PETS',\n",
       " 'JACK',\n",
       " 'IVZ',\n",
       " 'BERY',\n",
       " 'RH',\n",
       " 'FB',\n",
       " 'SAFE',\n",
       " 'PGTI',\n",
       " 'CACC',\n",
       " 'ARE',\n",
       " 'KKR',\n",
       " 'CNP',\n",
       " 'ABG',\n",
       " 'XPEL',\n",
       " 'NSPR',\n",
       " 'ANGI',\n",
       " 'WPX',\n",
       " 'RAIL',\n",
       " 'SHAK',\n",
       " 'HNNA',\n",
       " 'BRID',\n",
       " 'ARA',\n",
       " 'AMWD',\n",
       " 'LULU',\n",
       " 'DK',\n",
       " 'RDNT',\n",
       " 'PK',\n",
       " 'BOOM',\n",
       " 'PJT',\n",
       " 'SMG',\n",
       " 'CODA',\n",
       " 'CAR',\n",
       " 'GLGI',\n",
       " 'PINC',\n",
       " 'SSNC',\n",
       " 'IONS',\n",
       " 'PBF',\n",
       " 'RGLS',\n",
       " 'RGEN',\n",
       " 'DAN',\n",
       " 'SQBG',\n",
       " 'USFD',\n",
       " 'KLAC',\n",
       " 'SMLP',\n",
       " 'AMCX',\n",
       " 'ACGL',\n",
       " 'MU',\n",
       " 'MLHR',\n",
       " 'KEYS',\n",
       " 'HUN',\n",
       " 'STAA',\n",
       " 'ALRN',\n",
       " 'HQY',\n",
       " 'NEM',\n",
       " 'SAVE',\n",
       " 'FTV',\n",
       " 'SAM',\n",
       " 'BBSI',\n",
       " 'ACY',\n",
       " 'POOL',\n",
       " 'GIII',\n",
       " 'TMUS',\n",
       " 'MTCH',\n",
       " 'NVR',\n",
       " 'DXCM',\n",
       " 'INTU',\n",
       " 'BSTG',\n",
       " 'ROP',\n",
       " 'TPCS',\n",
       " 'AMOT',\n",
       " 'KANP',\n",
       " 'CBRE',\n",
       " 'SCPL',\n",
       " 'SITE',\n",
       " 'LHCG',\n",
       " 'BRKS',\n",
       " 'VMW',\n",
       " 'MHH',\n",
       " 'MMS',\n",
       " 'VAPE',\n",
       " 'MGPI',\n",
       " 'SEDG',\n",
       " 'IAA',\n",
       " 'CRTO',\n",
       " 'PCAR',\n",
       " 'BA',\n",
       " 'ZYXI',\n",
       " 'HRB',\n",
       " 'AVTR',\n",
       " 'REAL',\n",
       " 'VGR',\n",
       " 'EGP',\n",
       " 'DIN',\n",
       " 'SGA',\n",
       " 'LUNA',\n",
       " 'BGSF',\n",
       " 'NEO',\n",
       " 'HAS',\n",
       " 'RESI',\n",
       " 'JBLU',\n",
       " 'NFG',\n",
       " 'EQIX',\n",
       " 'BWXT',\n",
       " 'PPC',\n",
       " 'ALLE',\n",
       " 'FIVE',\n",
       " 'TA',\n",
       " 'ACN',\n",
       " 'PCH',\n",
       " 'SAH',\n",
       " 'CWH',\n",
       " 'SKX',\n",
       " 'BDX',\n",
       " 'HIL',\n",
       " 'MASI',\n",
       " 'MFON',\n",
       " 'NOW',\n",
       " 'CBOE',\n",
       " 'GO',\n",
       " 'TDG',\n",
       " 'CPRT',\n",
       " 'GGG',\n",
       " 'EV',\n",
       " 'CIEN',\n",
       " 'VNCE',\n",
       " 'WK',\n",
       " 'MVIS',\n",
       " 'OXM',\n",
       " 'CLR',\n",
       " 'SRE',\n",
       " 'DIS',\n",
       " 'REGN',\n",
       " 'D',\n",
       " 'BMY',\n",
       " 'FIT',\n",
       " 'VNO',\n",
       " 'ISDR',\n",
       " 'SYNH',\n",
       " 'ZTS',\n",
       " 'PAHC',\n",
       " 'ENPH',\n",
       " 'OTEL',\n",
       " 'MRVL',\n",
       " 'FIS',\n",
       " 'CCOI',\n",
       " 'SHW',\n",
       " 'ARLP',\n",
       " 'MMI',\n",
       " 'ACRX',\n",
       " 'MCO',\n",
       " 'PKG',\n",
       " 'GB',\n",
       " 'DPZ',\n",
       " 'RP',\n",
       " 'CDNS',\n",
       " 'ADES',\n",
       " 'LNTH',\n",
       " 'WYNN',\n",
       " 'TTOO',\n",
       " 'RAMP',\n",
       " 'QCOM',\n",
       " 'KE',\n",
       " 'FSS',\n",
       " 'JAZZ',\n",
       " 'ALRM',\n",
       " 'TTWO',\n",
       " 'CL',\n",
       " 'NCMI',\n",
       " 'GPN',\n",
       " 'MTZ',\n",
       " 'EVTC',\n",
       " 'WGO',\n",
       " 'BSX',\n",
       " 'SGH',\n",
       " 'Y',\n",
       " 'CMBM',\n",
       " 'FOXF',\n",
       " 'ARWR',\n",
       " 'TROW',\n",
       " 'OVV',\n",
       " 'CVGI',\n",
       " 'CDK',\n",
       " 'BIO',\n",
       " 'IVDN',\n",
       " 'SABR',\n",
       " 'SBGI',\n",
       " 'STMP',\n",
       " 'SWN',\n",
       " 'TREX',\n",
       " 'VEC',\n",
       " 'DENN',\n",
       " 'CYCC',\n",
       " 'JOUT',\n",
       " 'PROM',\n",
       " 'DAL',\n",
       " 'WNDW',\n",
       " 'VZ',\n",
       " 'IBM',\n",
       " 'LMT',\n",
       " 'KWR',\n",
       " 'CELH',\n",
       " 'TBTC',\n",
       " 'GMAN',\n",
       " 'SNX',\n",
       " 'LOPE',\n",
       " 'OMCL',\n",
       " 'GMED',\n",
       " 'CODI',\n",
       " 'EVR',\n",
       " 'ALK',\n",
       " 'MRCY',\n",
       " 'PATK',\n",
       " 'DISCA',\n",
       " 'DXLG',\n",
       " 'PFGC',\n",
       " 'TNET',\n",
       " 'IIPR',\n",
       " 'CLRB',\n",
       " 'STE',\n",
       " 'HNRG',\n",
       " 'JSDA',\n",
       " 'FND',\n",
       " 'OHI',\n",
       " 'BURL',\n",
       " 'AVGR',\n",
       " 'SAIA',\n",
       " 'KHC',\n",
       " 'FCPT',\n",
       " 'DELL',\n",
       " 'EBIX',\n",
       " 'WOOF',\n",
       " 'ANET',\n",
       " 'EW',\n",
       " 'AYX',\n",
       " 'BOOT',\n",
       " 'JELD',\n",
       " 'REMI',\n",
       " 'STRA',\n",
       " 'GWGH',\n",
       " 'FKWL',\n",
       " 'ALCO',\n",
       " 'SPB',\n",
       " 'SSNT',\n",
       " 'UPS',\n",
       " 'ABMD',\n",
       " 'TIF',\n",
       " 'EHC',\n",
       " 'PRTX',\n",
       " 'PAYS',\n",
       " 'USCR',\n",
       " 'ADPT',\n",
       " 'SMSI',\n",
       " 'MGM',\n",
       " 'ADI',\n",
       " 'FIX',\n",
       " 'VRSK',\n",
       " 'FET',\n",
       " 'PEB',\n",
       " 'PAYC',\n",
       " 'BBGI',\n",
       " 'CGA',\n",
       " 'MIXX',\n",
       " 'TGI',\n",
       " 'RCII',\n",
       " 'BE',\n",
       " 'PRGO',\n",
       " 'AJRD',\n",
       " 'HPQ',\n",
       " 'TSSI',\n",
       " 'FONR',\n",
       " 'HSY',\n",
       " 'SOHO',\n",
       " 'CSBR',\n",
       " 'CNC']"
      ]
     },
     "execution_count": 25,
     "metadata": {},
     "output_type": "execute_result"
    }
   ],
   "source": [
    "good_buy_tickers"
   ]
  },
  {
   "cell_type": "code",
   "execution_count": 26,
   "metadata": {},
   "outputs": [
    {
     "data": {
      "text/html": [
       "<div>\n",
       "<style scoped>\n",
       "    .dataframe tbody tr th:only-of-type {\n",
       "        vertical-align: middle;\n",
       "    }\n",
       "\n",
       "    .dataframe tbody tr th {\n",
       "        vertical-align: top;\n",
       "    }\n",
       "\n",
       "    .dataframe thead th {\n",
       "        text-align: right;\n",
       "    }\n",
       "</style>\n",
       "<table border=\"1\" class=\"dataframe\">\n",
       "  <thead>\n",
       "    <tr style=\"text-align: right;\">\n",
       "      <th></th>\n",
       "      <th>10-year growth rate</th>\n",
       "      <th>5-year growth rate</th>\n",
       "      <th>3-year growth rate</th>\n",
       "      <th>1-year growth rate</th>\n",
       "    </tr>\n",
       "    <tr>\n",
       "      <th>financial</th>\n",
       "      <th></th>\n",
       "      <th></th>\n",
       "      <th></th>\n",
       "      <th></th>\n",
       "    </tr>\n",
       "  </thead>\n",
       "  <tbody>\n",
       "    <tr>\n",
       "      <th>Total Equity</th>\n",
       "      <td>0.279992</td>\n",
       "      <td>0.420213</td>\n",
       "      <td>0.476377</td>\n",
       "      <td>0.425061</td>\n",
       "    </tr>\n",
       "    <tr>\n",
       "      <th>Cash, Cash Equivalents &amp; Short Term Investments</th>\n",
       "      <td>0.240698</td>\n",
       "      <td>0.258682</td>\n",
       "      <td>0.284175</td>\n",
       "      <td>0.333842</td>\n",
       "    </tr>\n",
       "    <tr>\n",
       "      <th>Revenue</th>\n",
       "      <td>0.276040</td>\n",
       "      <td>0.258135</td>\n",
       "      <td>0.272985</td>\n",
       "      <td>0.204541</td>\n",
       "    </tr>\n",
       "    <tr>\n",
       "      <th>EPS</th>\n",
       "      <td>0.273961</td>\n",
       "      <td>NaN</td>\n",
       "      <td>0.673823</td>\n",
       "      <td>0.134101</td>\n",
       "    </tr>\n",
       "    <tr>\n",
       "      <th>ROIC</th>\n",
       "      <td>-0.017189</td>\n",
       "      <td>0.431963</td>\n",
       "      <td>0.128185</td>\n",
       "      <td>-0.147057</td>\n",
       "    </tr>\n",
       "  </tbody>\n",
       "</table>\n",
       "</div>"
      ],
      "text/plain": [
       "                                                 10-year growth rate  \\\n",
       "financial                                                              \n",
       "Total Equity                                                0.279992   \n",
       "Cash, Cash Equivalents & Short Term Investments             0.240698   \n",
       "Revenue                                                     0.276040   \n",
       "EPS                                                         0.273961   \n",
       "ROIC                                                       -0.017189   \n",
       "\n",
       "                                                 5-year growth rate  \\\n",
       "financial                                                             \n",
       "Total Equity                                               0.420213   \n",
       "Cash, Cash Equivalents & Short Term Investments            0.258682   \n",
       "Revenue                                                    0.258135   \n",
       "EPS                                                             NaN   \n",
       "ROIC                                                       0.431963   \n",
       "\n",
       "                                                 3-year growth rate  \\\n",
       "financial                                                             \n",
       "Total Equity                                               0.476377   \n",
       "Cash, Cash Equivalents & Short Term Investments            0.284175   \n",
       "Revenue                                                    0.272985   \n",
       "EPS                                                        0.673823   \n",
       "ROIC                                                       0.128185   \n",
       "\n",
       "                                                 1-year growth rate  \n",
       "financial                                                            \n",
       "Total Equity                                               0.425061  \n",
       "Cash, Cash Equivalents & Short Term Investments            0.333842  \n",
       "Revenue                                                    0.204541  \n",
       "EPS                                                        0.134101  \n",
       "ROIC                                                      -0.147057  "
      ]
     },
     "execution_count": 26,
     "metadata": {},
     "output_type": "execute_result"
    }
   ],
   "source": [
    "symbol = 'AMZN'\n",
    "growth_rate_df.loc[symbol]"
   ]
  },
  {
   "cell_type": "code",
   "execution_count": 27,
   "metadata": {},
   "outputs": [
    {
     "data": {
      "text/plain": [
       "<AxesSubplot:xlabel='Report Date'>"
      ]
     },
     "execution_count": 27,
     "metadata": {},
     "output_type": "execute_result"
    },
    {
     "data": {
      "image/png": "[encoded data removed]",
      "text/plain": [
       "<Figure size 432x288 with 1 Axes>"
      ]
     },
     "metadata": {
      "needs_background": "light"
     },
     "output_type": "display_data"
    },
    {
     "data": {
      "image/png": "[encoded data removed]",
      "text/plain": [
       "<Figure size 432x288 with 1 Axes>"
      ]
     },
     "metadata": {
      "needs_background": "light"
     },
     "output_type": "display_data"
    },
    {
     "data": {
      "image/png": "[encoded data removed]",
      "text/plain": [
       "<Figure size 432x288 with 1 Axes>"
      ]
     },
     "metadata": {
      "needs_background": "light"
     },
     "output_type": "display_data"
    }
   ],
   "source": [
    "big_five_df[symbol].loc[[REVENUE, TOTAL_EQUITY, CASH_EQUIV_ST_INVEST]].T.plot()\n",
    "big_five_df[symbol].loc[['EPS']].T.plot()\n",
    "big_five_df[symbol].loc[['ROIC']].T.plot()"
   ]
  },
  {
   "cell_type": "code",
   "execution_count": 29,
   "metadata": {},
   "outputs": [
    {
     "name": "stdout",
     "output_type": "stream",
     "text": [
      "Error checking REI\n",
      "Error checking EPM\n"
     ]
    },
    {
     "data": {
      "text/plain": [
       "['AMZN', 'NFLX', 'ASGN', 'LULU', 'CNC']"
      ]
     },
     "execution_count": 29,
     "metadata": {},
     "output_type": "execute_result"
    }
   ],
   "source": [
    "watch_out = []\n",
    "\n",
    "for ticker in good_buy_tickers:\n",
    "    try:\n",
    "        if check_is_potential_buy(growth_rate_df.loc[ticker], 3):\n",
    "            watch_out.append(ticker)\n",
    "    except:\n",
    "        print(f'Error checking {ticker}')\n",
    "\n",
    "watch_out"
   ]
  }
 ],
 "metadata": {
  "kernelspec": {
   "display_name": "simfin",
   "language": "python",
   "name": "simfin"
  },
  "language_info": {
   "codemirror_mode": {
    "name": "ipython",
    "version": 3
   },
   "file_extension": ".py",
   "mimetype": "text/x-python",
   "name": "python",
   "nbconvert_exporter": "python",
   "pygments_lexer": "ipython3",
   "version": "3.6.12"
  }
 },
 "nbformat": 4,
 "nbformat_minor": 4
}
